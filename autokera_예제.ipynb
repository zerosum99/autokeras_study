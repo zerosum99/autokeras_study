{
 "cells": [
  {
   "cell_type": "code",
   "execution_count": 32,
   "id": "52b81ffa-7e2a-4acc-8ea5-f1219152090a",
   "metadata": {},
   "outputs": [],
   "source": [
    "import os\n",
    "os.environ['TF_NUM_INTRAOP_THREADS'] = '1'\n",
    "os.environ['TF_NUM_INTEROP_THREADS'] = '1'"
   ]
  },
  {
   "cell_type": "code",
   "execution_count": 33,
   "id": "f38ca1f5-cd83-4ca6-97e4-b6c1964365da",
   "metadata": {},
   "outputs": [],
   "source": [
    "\n",
    "os.environ[\"TF_CPP_MIN_LOG_LEVEL\"] = \"2\""
   ]
  },
  {
   "cell_type": "code",
   "execution_count": 34,
   "id": "f5fd6d36-7410-4efd-881e-0e5d37acf424",
   "metadata": {},
   "outputs": [],
   "source": [
    "import numpy as np\n",
    "import tensorflow as tf\n",
    "from tensorflow.keras.datasets import mnist"
   ]
  },
  {
   "cell_type": "code",
   "execution_count": null,
   "id": "9ca19b57-7196-4e08-84bc-aec3445b6db3",
   "metadata": {},
   "outputs": [],
   "source": []
  },
  {
   "cell_type": "markdown",
   "id": "1d88d31d-ab77-4691-8c7b-00358e6436b2",
   "metadata": {},
   "source": [
    "## 문제 해결할 것 : 너무 느림 \n",
    "WARNING:absl:At this time, the v2.11+ optimizer `tf.keras.optimizers.Adam` runs slowly on M1/M2 Macs, \n",
    "please use the legacy Keras optimizer instead, located at `tf.keras.optimizers.legacy.Adam`.\n",
    "WARNING:absl:There is a known slowdown when using v2.11+ Keras optimizers on M1/M2 Macs. Falling back to the legacy Keras optimizer, i.e., \n",
    "`tf.keras.optimizers.legacy.Adam`."
   ]
  },
  {
   "cell_type": "code",
   "execution_count": 46,
   "id": "51cf41e0-d838-4a09-87c1-31dcd756dc11",
   "metadata": {},
   "outputs": [],
   "source": [
    "tf.keras.optimizers.Adam = tf.keras.optimizers.legacy.Adam"
   ]
  },
  {
   "cell_type": "code",
   "execution_count": null,
   "id": "81bbd2d1-f853-422f-bf68-1b4bbb14acf3",
   "metadata": {},
   "outputs": [],
   "source": []
  },
  {
   "cell_type": "code",
   "execution_count": null,
   "id": "4aba0a41-f9eb-4ccc-b112-c77d9364c34b",
   "metadata": {},
   "outputs": [],
   "source": []
  },
  {
   "cell_type": "code",
   "execution_count": 47,
   "id": "b0f88322-7099-4782-a660-52fcb3c1c892",
   "metadata": {},
   "outputs": [],
   "source": [
    "import autokeras as ak"
   ]
  },
  {
   "cell_type": "code",
   "execution_count": 48,
   "id": "d539eace-a81d-42b0-a068-c6416ffc5c82",
   "metadata": {},
   "outputs": [
    {
     "name": "stdout",
     "output_type": "stream",
     "text": [
      "(60000, 28, 28)\n",
      "(60000,)\n",
      "[5 0 4]\n"
     ]
    }
   ],
   "source": [
    "(x_train, y_train), (x_test, y_test) = mnist.load_data()\n",
    "print(x_train.shape)  # (60000, 28, 28)\n",
    "print(y_train.shape)  # (60000,)\n",
    "print(y_train[:3])  # array([7, 2, 1], dtype=uint8)"
   ]
  },
  {
   "cell_type": "code",
   "execution_count": null,
   "id": "5d5c6cef-9e6a-4b50-9242-51bb125bbf40",
   "metadata": {},
   "outputs": [],
   "source": []
  },
  {
   "cell_type": "code",
   "execution_count": 49,
   "id": "be75cb19-3d3b-4d3f-9a5d-e5449b86661a",
   "metadata": {},
   "outputs": [
    {
     "name": "stdout",
     "output_type": "stream",
     "text": [
      "Trial 1 Complete [00h 03m 46s]\n",
      "val_loss: 0.03944199159741402\n",
      "\n",
      "Best val_loss So Far: 0.03944199159741402\n",
      "Total elapsed time: 00h 03m 46s\n",
      "INFO:tensorflow:Oracle triggered exit\n"
     ]
    },
    {
     "name": "stderr",
     "output_type": "stream",
     "text": [
      "INFO:tensorflow:Oracle triggered exit\n"
     ]
    },
    {
     "name": "stdout",
     "output_type": "stream",
     "text": [
      "Epoch 1/10\n",
      "1875/1875 [==============================] - 27s 14ms/step - loss: 0.1649 - accuracy: 0.9497\n",
      "Epoch 2/10\n",
      "1875/1875 [==============================] - 26s 14ms/step - loss: 0.0746 - accuracy: 0.9765\n",
      "Epoch 3/10\n",
      "1875/1875 [==============================] - 27s 14ms/step - loss: 0.0607 - accuracy: 0.9815\n",
      "Epoch 4/10\n",
      "1875/1875 [==============================] - 27s 15ms/step - loss: 0.0513 - accuracy: 0.9836\n",
      "Epoch 5/10\n",
      "1875/1875 [==============================] - 26s 14ms/step - loss: 0.0455 - accuracy: 0.9854\n",
      "Epoch 6/10\n",
      "1875/1875 [==============================] - 26s 14ms/step - loss: 0.0395 - accuracy: 0.9876\n",
      "Epoch 7/10\n",
      "1875/1875 [==============================] - 28s 15ms/step - loss: 0.0378 - accuracy: 0.9875\n",
      "Epoch 8/10\n",
      "1875/1875 [==============================] - 26s 14ms/step - loss: 0.0338 - accuracy: 0.9890\n",
      "Epoch 9/10\n",
      "1875/1875 [==============================] - 26s 14ms/step - loss: 0.0322 - accuracy: 0.9895\n",
      "Epoch 10/10\n",
      "1875/1875 [==============================] - 26s 14ms/step - loss: 0.0304 - accuracy: 0.9896\n",
      "INFO:tensorflow:Assets written to: ./image_classifier/best_model/assets\n"
     ]
    },
    {
     "name": "stderr",
     "output_type": "stream",
     "text": [
      "INFO:tensorflow:Assets written to: ./image_classifier/best_model/assets\n"
     ]
    },
    {
     "name": "stdout",
     "output_type": "stream",
     "text": [
      "313/313 [==============================] - 1s 3ms/step\n",
      "313/313 [==============================] - 1s 3ms/step\n",
      "[['7']\n",
      " ['2']\n",
      " ['1']\n",
      " ...\n",
      " ['4']\n",
      " ['5']\n",
      " ['6']]\n",
      "313/313 [==============================] - 1s 3ms/step - loss: 0.0346 - accuracy: 0.9897\n",
      "[0.03460265323519707, 0.9897000193595886]\n"
     ]
    }
   ],
   "source": [
    "# Initialize the image classifier.\n",
    "clf = ak.ImageClassifier(overwrite=True, max_trials=1)\n",
    "# Feed the image classifier with training data.\n",
    "clf.fit(x_train, y_train, epochs=10)\n",
    "\n",
    "\n",
    "# Predict with the best model.\n",
    "predicted_y = clf.predict(x_test)\n",
    "print(predicted_y)\n",
    "\n",
    "\n",
    "# Evaluate the best model with testing data.\n",
    "print(clf.evaluate(x_test, y_test))"
   ]
  },
  {
   "cell_type": "code",
   "execution_count": null,
   "id": "8c01942f-3887-475e-9b86-500cb7ef8d44",
   "metadata": {},
   "outputs": [],
   "source": []
  },
  {
   "cell_type": "code",
   "execution_count": 50,
   "id": "e1d77381-04d0-40a1-847f-28b105890565",
   "metadata": {},
   "outputs": [],
   "source": [
    "clf.fit(\n",
    "    x_train,\n",
    "    y_train,\n",
    "    # Split the training data and use the last 15% as validation data.\n",
    "    validation_split=0.15,\n",
    "    epochs=10,\n",
    ")"
   ]
  },
  {
   "cell_type": "code",
   "execution_count": null,
   "id": "428b06c7-84fe-4aab-8486-9410bb643004",
   "metadata": {},
   "outputs": [],
   "source": []
  },
  {
   "cell_type": "code",
   "execution_count": 51,
   "id": "4d71f84e-5f4f-4dbe-87ed-ac6fb1667540",
   "metadata": {},
   "outputs": [],
   "source": [
    "split = 50000\n",
    "x_val = x_train[split:]\n",
    "y_val = y_train[split:]\n",
    "x_train = x_train[:split]\n",
    "y_train = y_train[:split]\n",
    "clf.fit(\n",
    "    x_train,\n",
    "    y_train,\n",
    "    # Use your own validation set.\n",
    "    validation_data=(x_val, y_val),\n",
    "    epochs=10,\n",
    ")"
   ]
  },
  {
   "cell_type": "code",
   "execution_count": null,
   "id": "ca3f47f2-2dde-4810-aa11-93145006164f",
   "metadata": {},
   "outputs": [],
   "source": []
  },
  {
   "cell_type": "code",
   "execution_count": null,
   "id": "75c7be1b-eb71-4e14-ad64-a2a4b6be8a66",
   "metadata": {},
   "outputs": [],
   "source": []
  },
  {
   "cell_type": "code",
   "execution_count": null,
   "id": "32d78f55-2478-4ce8-8e6f-80ccc48b6892",
   "metadata": {},
   "outputs": [],
   "source": []
  },
  {
   "cell_type": "code",
   "execution_count": 52,
   "id": "6b807393-7884-4053-9192-c5b694ab6280",
   "metadata": {},
   "outputs": [],
   "source": [
    "input_node = ak.ImageInput()\n",
    "output_node = ak.ImageBlock(\n",
    "    # Only search ResNet architectures.\n",
    "    block_type=\"resnet\",\n",
    "    # Normalize the dataset.\n",
    "    normalize=True,\n",
    "    # Do not do data augmentation.\n",
    "    augment=False,\n",
    ")(input_node)\n",
    "\n",
    "output_node = ak.ClassificationHead()(output_node)\n",
    "clf = ak.AutoModel(\n",
    "    inputs=input_node, outputs=output_node, overwrite=True, max_trials=1,\n",
    ")\n",
    "\n",
    "## clf.fit(x_train, y_train, epochs=2)"
   ]
  },
  {
   "cell_type": "code",
   "execution_count": 53,
   "id": "bb439bbd-be11-4846-89b7-2446d5749043",
   "metadata": {},
   "outputs": [
    {
     "name": "stdout",
     "output_type": "stream",
     "text": [
      "Trial 1 Complete [00h 53m 35s]\n",
      "val_loss: 0.08372114598751068\n",
      "\n",
      "Best val_loss So Far: 0.08372114598751068\n",
      "Total elapsed time: 00h 53m 35s\n",
      "INFO:tensorflow:Oracle triggered exit\n"
     ]
    },
    {
     "name": "stderr",
     "output_type": "stream",
     "text": [
      "INFO:tensorflow:Oracle triggered exit\n"
     ]
    },
    {
     "name": "stdout",
     "output_type": "stream",
     "text": [
      "Epoch 1/10\n",
      "1563/1563 [==============================] - 387s 247ms/step - loss: 0.3346 - accuracy: 0.9183\n",
      "Epoch 2/10\n",
      "1563/1563 [==============================] - 387s 248ms/step - loss: 0.1903 - accuracy: 0.9518\n",
      "Epoch 3/10\n",
      "1563/1563 [==============================] - 386s 247ms/step - loss: 0.2012 - accuracy: 0.9534\n",
      "Epoch 4/10\n",
      "1563/1563 [==============================] - 385s 246ms/step - loss: 0.1554 - accuracy: 0.9618\n",
      "Epoch 5/10\n",
      "1563/1563 [==============================] - 385s 247ms/step - loss: 0.1592 - accuracy: 0.9626\n",
      "Epoch 6/10\n",
      "1563/1563 [==============================] - 384s 245ms/step - loss: 0.0994 - accuracy: 0.9743\n",
      "Epoch 7/10\n",
      "1563/1563 [==============================] - 384s 246ms/step - loss: 0.1434 - accuracy: 0.9647\n",
      "Epoch 8/10\n",
      "1563/1563 [==============================] - 385s 246ms/step - loss: 0.0999 - accuracy: 0.9744\n",
      "Epoch 9/10\n",
      "1563/1563 [==============================] - 385s 246ms/step - loss: 0.0508 - accuracy: 0.9845\n",
      "Epoch 10/10\n",
      "1563/1563 [==============================] - 385s 246ms/step - loss: 0.0433 - accuracy: 0.9869\n",
      "INFO:tensorflow:Assets written to: ./auto_model/best_model/assets\n"
     ]
    },
    {
     "name": "stderr",
     "output_type": "stream",
     "text": [
      "INFO:tensorflow:Assets written to: ./auto_model/best_model/assets\n"
     ]
    },
    {
     "data": {
      "text/plain": [
       "<keras.src.callbacks.History at 0x17734d250>"
      ]
     },
     "execution_count": 53,
     "metadata": {},
     "output_type": "execute_result"
    }
   ],
   "source": [
    "clf.fit(x_train, y_train, epochs=10)"
   ]
  },
  {
   "cell_type": "code",
   "execution_count": null,
   "id": "6b99c383-6ff5-4d55-b26a-ac250660c6ea",
   "metadata": {},
   "outputs": [],
   "source": []
  },
  {
   "cell_type": "code",
   "execution_count": null,
   "id": "1a41134b-11d1-4fd1-9cff-fde132e8960f",
   "metadata": {},
   "outputs": [],
   "source": []
  },
  {
   "cell_type": "code",
   "execution_count": null,
   "id": "93a2d1cc-21c2-4a33-91ca-3d5520c1b8ba",
   "metadata": {},
   "outputs": [],
   "source": []
  },
  {
   "cell_type": "code",
   "execution_count": 54,
   "id": "ca616b63-781d-4c7d-8437-908a27283d66",
   "metadata": {},
   "outputs": [
    {
     "name": "stdout",
     "output_type": "stream",
     "text": [
      "Trial 1 Complete [00h 52m 26s]\n",
      "val_loss: 0.08987890183925629\n",
      "\n",
      "Best val_loss So Far: 0.08987890183925629\n",
      "Total elapsed time: 00h 52m 26s\n",
      "INFO:tensorflow:Oracle triggered exit\n"
     ]
    },
    {
     "name": "stderr",
     "output_type": "stream",
     "text": [
      "INFO:tensorflow:Oracle triggered exit\n"
     ]
    },
    {
     "name": "stdout",
     "output_type": "stream",
     "text": [
      "Epoch 1/10\n",
      "1563/1563 [==============================] - 380s 242ms/step - loss: 0.3250 - accuracy: 0.9066\n",
      "Epoch 2/10\n",
      "1563/1563 [==============================] - 380s 243ms/step - loss: 0.1894 - accuracy: 0.9506\n",
      "Epoch 3/10\n",
      "1563/1563 [==============================] - 386s 247ms/step - loss: 0.1374 - accuracy: 0.9621\n",
      "Epoch 4/10\n",
      "1563/1563 [==============================] - 385s 246ms/step - loss: 0.1321 - accuracy: 0.9643\n",
      "Epoch 5/10\n",
      "1563/1563 [==============================] - 387s 247ms/step - loss: 0.1338 - accuracy: 0.9657\n",
      "Epoch 6/10\n",
      "1563/1563 [==============================] - 390s 249ms/step - loss: 0.0953 - accuracy: 0.9736\n",
      "Epoch 7/10\n",
      "1563/1563 [==============================] - 380s 243ms/step - loss: 0.0886 - accuracy: 0.9746\n",
      "Epoch 8/10\n",
      "1563/1563 [==============================] - 384s 246ms/step - loss: 0.0724 - accuracy: 0.9794\n",
      "Epoch 9/10\n",
      "1563/1563 [==============================] - 391s 250ms/step - loss: 0.0700 - accuracy: 0.9800\n",
      "Epoch 10/10\n",
      "1563/1563 [==============================] - 390s 249ms/step - loss: 0.0705 - accuracy: 0.9805\n",
      "INFO:tensorflow:Assets written to: ./auto_model/best_model/assets\n"
     ]
    },
    {
     "name": "stderr",
     "output_type": "stream",
     "text": [
      "INFO:tensorflow:Assets written to: ./auto_model/best_model/assets\n"
     ]
    },
    {
     "data": {
      "text/plain": [
       "<keras.src.callbacks.History at 0x308e7d7f0>"
      ]
     },
     "execution_count": 54,
     "metadata": {},
     "output_type": "execute_result"
    }
   ],
   "source": [
    "input_node = ak.ImageInput()\n",
    "output_node = ak.Normalization()(input_node)\n",
    "output_node = ak.ImageAugmentation(horizontal_flip=False)(output_node)\n",
    "output_node = ak.ResNetBlock(version=\"v2\")(output_node)\n",
    "output_node = ak.ClassificationHead()(output_node)\n",
    "clf = ak.AutoModel(\n",
    "    inputs=input_node, outputs=output_node, overwrite=True, max_trials=1\n",
    ")\n",
    "clf.fit(x_train, y_train, epochs=10)"
   ]
  },
  {
   "cell_type": "code",
   "execution_count": null,
   "id": "177ad1d0-2624-4a92-a274-7824d0f3527c",
   "metadata": {},
   "outputs": [],
   "source": []
  },
  {
   "cell_type": "code",
   "execution_count": null,
   "id": "02a5d0c8-54b8-4ec3-90d4-1e3c084f0ca3",
   "metadata": {},
   "outputs": [],
   "source": []
  },
  {
   "cell_type": "code",
   "execution_count": null,
   "id": "fd511a8d-02c5-4c63-8157-e706f3b817fc",
   "metadata": {},
   "outputs": [],
   "source": []
  },
  {
   "cell_type": "code",
   "execution_count": 55,
   "id": "73e36d56-831d-46ec-9423-68440dc86375",
   "metadata": {},
   "outputs": [
    {
     "name": "stdout",
     "output_type": "stream",
     "text": [
      "(60000, 28, 28, 1)\n",
      "(60000, 10)\n",
      "[[0. 0. 0. 0. 0. 1. 0. 0. 0. 0.]\n",
      " [1. 0. 0. 0. 0. 0. 0. 0. 0. 0.]\n",
      " [0. 0. 0. 0. 1. 0. 0. 0. 0. 0.]]\n"
     ]
    }
   ],
   "source": [
    "(x_train, y_train), (x_test, y_test) = mnist.load_data()\n",
    "\n",
    "# Reshape the images to have the channel dimension.\n",
    "x_train = x_train.reshape(x_train.shape + (1,))\n",
    "x_test = x_test.reshape(x_test.shape + (1,))\n",
    "\n",
    "# One-hot encode the labels.\n",
    "eye = np.eye(10)\n",
    "y_train = eye[y_train]\n",
    "y_test = eye[y_test]\n",
    "\n",
    "print(x_train.shape)  # (60000, 28, 28, 1)\n",
    "print(y_train.shape)  # (60000, 10)\n",
    "print(y_train[:3])\n",
    "# array([[0., 0., 0., 0., 0., 1., 0., 0., 0., 0.],\n",
    "#        [1., 0., 0., 0., 0., 0., 0., 0., 0., 0.],\n",
    "#        [0., 0., 0., 0., 1., 0., 0., 0., 0., 0.]])"
   ]
  },
  {
   "cell_type": "code",
   "execution_count": null,
   "id": "9305778b-4322-4d10-9d25-f942b2396c46",
   "metadata": {},
   "outputs": [],
   "source": []
  },
  {
   "cell_type": "code",
   "execution_count": 56,
   "id": "6422e9f9-f9fb-40cb-8f3a-11fc45125435",
   "metadata": {},
   "outputs": [
    {
     "name": "stdout",
     "output_type": "stream",
     "text": [
      "Trial 1 Complete [00h 04m 08s]\n",
      "val_loss: 0.04134426638484001\n",
      "\n",
      "Best val_loss So Far: 0.04134426638484001\n",
      "Total elapsed time: 00h 04m 08s\n",
      "INFO:tensorflow:Oracle triggered exit\n"
     ]
    },
    {
     "name": "stderr",
     "output_type": "stream",
     "text": [
      "INFO:tensorflow:Oracle triggered exit\n"
     ]
    },
    {
     "name": "stdout",
     "output_type": "stream",
     "text": [
      "Epoch 1/10\n",
      "1875/1875 [==============================] - 29s 16ms/step - loss: 0.1565 - accuracy: 0.9524\n",
      "Epoch 2/10\n",
      "1875/1875 [==============================] - 28s 15ms/step - loss: 0.0747 - accuracy: 0.9764\n",
      "Epoch 3/10\n",
      "1875/1875 [==============================] - 27s 15ms/step - loss: 0.0567 - accuracy: 0.9827\n",
      "Epoch 4/10\n",
      "1875/1875 [==============================] - 26s 14ms/step - loss: 0.0499 - accuracy: 0.9843\n",
      "Epoch 5/10\n",
      "1875/1875 [==============================] - 27s 14ms/step - loss: 0.0454 - accuracy: 0.9857\n",
      "Epoch 6/10\n",
      "1875/1875 [==============================] - 27s 14ms/step - loss: 0.0400 - accuracy: 0.9874\n",
      "Epoch 7/10\n",
      "1875/1875 [==============================] - 27s 15ms/step - loss: 0.0377 - accuracy: 0.9881\n",
      "Epoch 8/10\n",
      "1875/1875 [==============================] - 27s 14ms/step - loss: 0.0327 - accuracy: 0.9893\n",
      "Epoch 9/10\n",
      "1875/1875 [==============================] - 27s 14ms/step - loss: 0.0309 - accuracy: 0.9900\n",
      "Epoch 10/10\n",
      "1875/1875 [==============================] - 27s 15ms/step - loss: 0.0305 - accuracy: 0.9904\n",
      "INFO:tensorflow:Assets written to: ./image_classifier/best_model/assets\n"
     ]
    },
    {
     "name": "stderr",
     "output_type": "stream",
     "text": [
      "INFO:tensorflow:Assets written to: ./image_classifier/best_model/assets\n"
     ]
    },
    {
     "name": "stdout",
     "output_type": "stream",
     "text": [
      "313/313 [==============================] - 1s 3ms/step\n",
      "313/313 [==============================] - 1s 3ms/step\n",
      "313/313 [==============================] - 1s 3ms/step - loss: 0.0361 - accuracy: 0.9880\n",
      "[0.036133479326963425, 0.9879999756813049]\n"
     ]
    }
   ],
   "source": [
    "train_set = tf.data.Dataset.from_tensor_slices(((x_train,), (y_train,)))\n",
    "test_set = tf.data.Dataset.from_tensor_slices(((x_test,), (y_test,)))\n",
    "\n",
    "clf = ak.ImageClassifier(overwrite=True, max_trials=1)\n",
    "# Feed the tensorflow Dataset to the classifier.\n",
    "clf.fit(train_set, epochs=10)\n",
    "# Predict with the best model.\n",
    "predicted_y = clf.predict(test_set)\n",
    "# Evaluate the best model with testing data.\n",
    "print(clf.evaluate(test_set))"
   ]
  },
  {
   "cell_type": "code",
   "execution_count": null,
   "id": "ff25cbaa-00e3-4d80-ba0a-89574cf21a31",
   "metadata": {},
   "outputs": [],
   "source": []
  },
  {
   "cell_type": "code",
   "execution_count": null,
   "id": "1f506af3-c783-4a16-8168-bcf76fb5217d",
   "metadata": {},
   "outputs": [],
   "source": []
  }
 ],
 "metadata": {
  "kernelspec": {
   "display_name": "Python 3 (ipykernel)",
   "language": "python",
   "name": "python3"
  },
  "language_info": {
   "codemirror_mode": {
    "name": "ipython",
    "version": 3
   },
   "file_extension": ".py",
   "mimetype": "text/x-python",
   "name": "python",
   "nbconvert_exporter": "python",
   "pygments_lexer": "ipython3",
   "version": "3.9.18"
  }
 },
 "nbformat": 4,
 "nbformat_minor": 5
}
