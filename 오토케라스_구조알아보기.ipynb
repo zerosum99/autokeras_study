{
 "cells": [
  {
   "cell_type": "code",
   "execution_count": null,
   "id": "1fcc449d-d633-41a4-8899-28acf021301d",
   "metadata": {},
   "outputs": [],
   "source": []
  },
  {
   "cell_type": "code",
   "execution_count": null,
   "id": "6b7de001-55f2-4eef-a306-fb283799c3d1",
   "metadata": {},
   "outputs": [],
   "source": []
  },
  {
   "cell_type": "code",
   "execution_count": 2,
   "id": "48931e3f-03c3-4481-80f9-5e8fcc6e774a",
   "metadata": {},
   "outputs": [],
   "source": [
    "import autokeras as ak"
   ]
  },
  {
   "cell_type": "code",
   "execution_count": 3,
   "id": "2074b71e-25ca-4f82-846f-12fdd8467695",
   "metadata": {},
   "outputs": [
    {
     "data": {
      "text/plain": [
       "['AutoModel',\n",
       " 'BayesianOptimization',\n",
       " 'BertBlock',\n",
       " 'Block',\n",
       " 'CUSTOM_OBJECTS',\n",
       " 'CastToFloat32',\n",
       " 'CategoricalToNumerical',\n",
       " 'ClassificationHead',\n",
       " 'ConvBlock',\n",
       " 'DenseBlock',\n",
       " 'EfficientNetBlock',\n",
       " 'Embedding',\n",
       " 'ExpandLastDim',\n",
       " 'Flatten',\n",
       " 'Greedy',\n",
       " 'Head',\n",
       " 'Hyperband',\n",
       " 'ImageAugmentation',\n",
       " 'ImageBlock',\n",
       " 'ImageClassifier',\n",
       " 'ImageInput',\n",
       " 'ImageRegressor',\n",
       " 'Input',\n",
       " 'Merge',\n",
       " 'MultiCategoryEncoding',\n",
       " 'Node',\n",
       " 'Normalization',\n",
       " 'RNNBlock',\n",
       " 'RandomSearch',\n",
       " 'RegressionHead',\n",
       " 'ResNetBlock',\n",
       " 'SpatialReduction',\n",
       " 'StructuredDataBlock',\n",
       " 'StructuredDataClassifier',\n",
       " 'StructuredDataInput',\n",
       " 'StructuredDataRegressor',\n",
       " 'TemporalReduction',\n",
       " 'TextBlock',\n",
       " 'TextClassifier',\n",
       " 'TextInput',\n",
       " 'TextRegressor',\n",
       " 'TextToIntSequence',\n",
       " 'TextToNgramVector',\n",
       " 'TimeseriesForecaster',\n",
       " 'TimeseriesInput',\n",
       " 'Transformer',\n",
       " 'XceptionBlock',\n",
       " '__builtins__',\n",
       " '__cached__',\n",
       " '__doc__',\n",
       " '__file__',\n",
       " '__loader__',\n",
       " '__name__',\n",
       " '__package__',\n",
       " '__path__',\n",
       " '__spec__',\n",
       " '__version__',\n",
       " 'adapters',\n",
       " 'analysers',\n",
       " 'auto_model',\n",
       " 'blocks',\n",
       " 'check_kt_version',\n",
       " 'check_tf_version',\n",
       " 'engine',\n",
       " 'graph',\n",
       " 'hyper_preprocessors',\n",
       " 'image_dataset_from_directory',\n",
       " 'keras_layers',\n",
       " 'keras_nlp',\n",
       " 'nodes',\n",
       " 'pipeline',\n",
       " 'preprocessors',\n",
       " 'tasks',\n",
       " 'text_dataset_from_directory',\n",
       " 'tuners',\n",
       " 'utils']"
      ]
     },
     "execution_count": 3,
     "metadata": {},
     "output_type": "execute_result"
    }
   ],
   "source": [
    "dir(ak)"
   ]
  },
  {
   "cell_type": "code",
   "execution_count": 8,
   "id": "5d6c88ee-4588-4d1f-8d95-4da33012d92c",
   "metadata": {},
   "outputs": [],
   "source": [
    "ak.check_kt_version()"
   ]
  },
  {
   "cell_type": "code",
   "execution_count": 6,
   "id": "10336bd5-e693-4c71-b0ae-19a677da803a",
   "metadata": {},
   "outputs": [],
   "source": [
    "ak.check_tf_version()"
   ]
  },
  {
   "cell_type": "code",
   "execution_count": null,
   "id": "73255cb2-34b6-4ae8-8961-87e76570641c",
   "metadata": {},
   "outputs": [],
   "source": []
  },
  {
   "cell_type": "code",
   "execution_count": null,
   "id": "3d8186cc-7297-43e2-8d24-95730453357c",
   "metadata": {},
   "outputs": [],
   "source": []
  },
  {
   "cell_type": "code",
   "execution_count": 4,
   "id": "374a26d9-0e3b-47fd-abb1-ddd88bbd6b4f",
   "metadata": {},
   "outputs": [
    {
     "name": "stdout",
     "output_type": "stream",
     "text": [
      "Writing fibo.py\n"
     ]
    }
   ],
   "source": [
    "%%writefile fibo.py\n",
    "def fib(n) :\n",
    "    a,b = 0,1\n",
    "    while a < n : \n",
    "        print(a, end=\" \")\n",
    "        a, b = b , a+b\n",
    "\n",
    "    print()"
   ]
  },
  {
   "cell_type": "code",
   "execution_count": 6,
   "id": "0b283253-749d-436c-8174-4c5f3152131e",
   "metadata": {},
   "outputs": [],
   "source": [
    "import fibo"
   ]
  },
  {
   "cell_type": "code",
   "execution_count": 7,
   "id": "5e8543ed-21c8-4293-94c8-6092c46b93a4",
   "metadata": {},
   "outputs": [
    {
     "name": "stdout",
     "output_type": "stream",
     "text": [
      "0 1 1 2 3 5 8 \n"
     ]
    }
   ],
   "source": [
    "fibo.fib(10)"
   ]
  },
  {
   "cell_type": "code",
   "execution_count": null,
   "id": "3503a366-3121-4793-bd92-0cde790cf8d1",
   "metadata": {},
   "outputs": [],
   "source": []
  }
 ],
 "metadata": {
  "kernelspec": {
   "display_name": "Python 3 (ipykernel)",
   "language": "python",
   "name": "python3"
  },
  "language_info": {
   "codemirror_mode": {
    "name": "ipython",
    "version": 3
   },
   "file_extension": ".py",
   "mimetype": "text/x-python",
   "name": "python",
   "nbconvert_exporter": "python",
   "pygments_lexer": "ipython3",
   "version": "3.9.19"
  }
 },
 "nbformat": 4,
 "nbformat_minor": 5
}
