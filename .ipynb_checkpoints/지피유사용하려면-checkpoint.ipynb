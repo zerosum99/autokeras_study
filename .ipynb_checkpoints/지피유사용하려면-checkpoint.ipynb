{
 "cells": [
  {
   "cell_type": "code",
   "execution_count": null,
   "id": "24d0f11b-a17b-4f20-af4d-5b7ed0c018c9",
   "metadata": {},
   "outputs": [],
   "source": []
  },
  {
   "cell_type": "markdown",
   "id": "96bbe360-6a05-4ef2-ab18-13d3f0bb653d",
   "metadata": {},
   "source": [
    "## gpu를 사용하려면 miniforge에서 설치해야 함 \n",
    "\n",
    "https://clarit7.github.io/mac_gpu_setting/"
   ]
  },
  {
   "cell_type": "markdown",
   "id": "9834b7ec-1489-4c74-860f-bf1936ff02bf",
   "metadata": {},
   "source": [
    "## 파이토치 설치 \n",
    "\n",
    "https://bio-info.tistory.com/184"
   ]
  },
  {
   "cell_type": "code",
   "execution_count": null,
   "id": "90458422-46d0-459d-b9d1-45ed046cc946",
   "metadata": {},
   "outputs": [],
   "source": []
  }
 ],
 "metadata": {
  "kernelspec": {
   "display_name": "Python 3 (ipykernel)",
   "language": "python",
   "name": "python3"
  },
  "language_info": {
   "codemirror_mode": {
    "name": "ipython",
    "version": 3
   },
   "file_extension": ".py",
   "mimetype": "text/x-python",
   "name": "python",
   "nbconvert_exporter": "python",
   "pygments_lexer": "ipython3",
   "version": "3.9.18"
  }
 },
 "nbformat": 4,
 "nbformat_minor": 5
}
